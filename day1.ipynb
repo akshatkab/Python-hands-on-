{
  "nbformat": 4,
  "nbformat_minor": 0,
  "metadata": {
    "colab": {
      "name": "Untitled5.ipynb",
      "provenance": []
    },
    "kernelspec": {
      "name": "python3",
      "display_name": "Python 3"
    },
    "language_info": {
      "name": "python"
    }
  },
  "cells": [
    {
      "cell_type": "markdown",
      "source": [
        "Q1. - Price of the house dollar 1 million\n",
        "if buyer has a good credit, they need to put down price by 10% otherwise, they need to put down price by 20%\n",
        "\n",
        "At the end print the down payment."
      ],
      "metadata": {
        "id": "EqYgikmmyKWS"
      }
    },
    {
      "cell_type": "code",
      "source": [
        "price=1000000\n",
        "good_credit=input()\n",
        "if good_credit=='yes':\n",
        "  print(\"Price of the House is \", +10*price/100)\n",
        "else:\n",
        "  print(\"Price of the House is\",20*price/100)"
      ],
      "metadata": {
        "colab": {
          "base_uri": "https://localhost:8080/"
        },
        "id": "XrDGt1XyyMqX",
        "outputId": "8e6d96bc-7083-4482-aa73-6e78db6930d5"
      },
      "execution_count": 4,
      "outputs": [
        {
          "output_type": "stream",
          "name": "stdout",
          "text": [
            "no\n",
            "Price of the House is 200000.0\n"
          ]
        }
      ]
    },
    {
      "cell_type": "markdown",
      "source": [
        "Q2. If the temp. is greater than 30, it is hot; otherwise, \n",
        "it is less than 10; it is a chilly day, neither hot nor cold."
      ],
      "metadata": {
        "id": "OovAeo42z6M2"
      }
    },
    {
      "cell_type": "code",
      "source": [
        "temp=int(input())\n",
        "if temp>=30:\n",
        "  print(\"Its is hot\")\n",
        "elif temp<=10:\n",
        "  print(\"It is a chilly Day\")\n",
        "else:\n",
        "  print(\"Neither Hot not Cold\")"
      ],
      "metadata": {
        "colab": {
          "base_uri": "https://localhost:8080/"
        },
        "id": "cSJc84jz0EpP",
        "outputId": "3f8cdba1-a9b5-41c2-a5ce-29c4e19e5dc1"
      },
      "execution_count": 10,
      "outputs": [
        {
          "output_type": "stream",
          "name": "stdout",
          "text": [
            "10\n",
            "It is a chilly Day\n"
          ]
        }
      ]
    },
    {
      "cell_type": "markdown",
      "source": [
        "Q3.If the name is less than 3 characters long, name must be atleast 3 character otherwise if it is more than 50 char. long name can be maximum of 50 characters. Otherwise looks good."
      ],
      "metadata": {
        "id": "ro7T0IXq0zUZ"
      }
    },
    {
      "cell_type": "code",
      "source": [
        "name=input()\n",
        "if len(name)<3:\n",
        "  print(\"Name must be atleast 3 character\")\n",
        "elif len(name)>50:\n",
        "  print(\"Long Name\")\n",
        "else:\n",
        "  print(\"Looks Good\")"
      ],
      "metadata": {
        "colab": {
          "base_uri": "https://localhost:8080/"
        },
        "id": "m05CylJ603Jg",
        "outputId": "8012576d-e4d2-4f8e-f5c5-067eea06521a"
      },
      "execution_count": 11,
      "outputs": [
        {
          "output_type": "stream",
          "name": "stdout",
          "text": [
            "akshat\n",
            "Looks Good\n"
          ]
        }
      ]
    },
    {
      "cell_type": "markdown",
      "source": [
        "Q4.For a given weight, get the choice whether LBS or kg ,then print it:"
      ],
      "metadata": {
        "id": "nlo26UNY1eXf"
      }
    },
    {
      "cell_type": "code",
      "source": [
        "n=print(\"Enter your choice kg or LBS : \")\n",
        "n=input(n)\n",
        "weight=print(\"Enter weight\")\n",
        "weight=int(input(weight))\n",
        "if n=='kg' or n==\"Kg\":\n",
        "  print(\"Weight in kg\", weight)\n",
        "elif n==\"LBS\" or n==\"lbs\":\n",
        "  print(\"Weight in Lbs : \",weight*2.2)\n",
        "else:\n",
        "  print(\"Please provide correct details !\")"
      ],
      "metadata": {
        "colab": {
          "base_uri": "https://localhost:8080/"
        },
        "id": "YgfFdYC12IkK",
        "outputId": "ff82b62a-9a92-4662-bdd9-aed612d89d39"
      },
      "execution_count": 16,
      "outputs": [
        {
          "output_type": "stream",
          "name": "stdout",
          "text": [
            "Enter your choice kg or LBS : \n",
            "kg\n",
            "20\n",
            "Weight in kg 20\n"
          ]
        }
      ]
    },
    {
      "cell_type": "code",
      "source": [
        ""
      ],
      "metadata": {
        "id": "ElJntOr03iB3"
      },
      "execution_count": null,
      "outputs": []
    }
  ]
}